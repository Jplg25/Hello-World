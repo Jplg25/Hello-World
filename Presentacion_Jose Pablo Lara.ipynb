{
 "cells": [
  {
   "cell_type": "markdown",
   "metadata": {},
   "source": [
    "<img style=\"float: right; margin: 0px 0px 15px 15px;\" src=\"https://donbalonrosa.defensacentral.com/images/2017/03/14/1489530341.jpg \" width=\"300px\" height=\"100px \" />\n",
    "\n",
    "# Presentación\n",
    "### <font color = red> José Pablo Lara </font>\n",
    "- 19 años\n",
    "- Guadalajara,Jal\n",
    "- Ing.Civil"
   ]
  },
  {
   "cell_type": "markdown",
   "metadata": {},
   "source": [
    "> Me gusta el fútbol mis equipos son: Las chivas rayadas de Guadalajara y el Chelsea de Londres\n",
    "\n",
    "> Tambien me gusta ver series y peliculas,las series que veo al momento son :La casa de papel y Game of Thrones\n"
   ]
  },
  {
   "cell_type": "markdown",
   "metadata": {},
   "source": [
    "$f(x)$ =\\frac{\\sin(os)}{\\cos(os)} =\\tan(os)"
   ]
  },
  {
   "cell_type": "markdown",
   "metadata": {},
   "source": [
    ">Espero que esta clase no solo me enseñe a diseñar y crear contenido de otra manera ,espero y esta clase tenga actividades dinamicas para lograr que esta clase no solo llame mi atencion a no solo limitarme al nivel de cumplicr con el curso,espero aprender nuevas cosas esta clase ya que no me considero una persona que haga mucho uso de las computadoras."
   ]
  },
  {
   "cell_type": "code",
   "execution_count": null,
   "metadata": {},
   "outputs": [],
   "source": []
  }
 ],
 "metadata": {
  "kernelspec": {
   "display_name": "Python 3",
   "language": "python",
   "name": "python3"
  },
  "language_info": {
   "codemirror_mode": {
    "name": "ipython",
    "version": 3
   },
   "file_extension": ".py",
   "mimetype": "text/x-python",
   "name": "python",
   "nbconvert_exporter": "python",
   "pygments_lexer": "ipython3",
   "version": "3.6.3"
  }
 },
 "nbformat": 4,
 "nbformat_minor": 2
}
