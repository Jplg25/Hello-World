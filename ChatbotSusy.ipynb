{
 "cells": [
  {
   "cell_type": "code",
   "execution_count": 121,
   "metadata": {},
   "outputs": [],
   "source": [
    "#Primer ejercicio ,José Pablo \n",
    "from time import sleep\n",
    "def print_words(sentence):\n",
    "    for word in sentence.split():\n",
    "        for l in word:\n",
    "            sleep(.1)\n",
    "            print(l, end = '')\n",
    "        print(end = ' ')"
   ]
  },
  {
   "cell_type": "code",
   "execution_count": 122,
   "metadata": {},
   "outputs": [],
   "source": [
    "enunciado=\"Hola que tal\""
   ]
  },
  {
   "cell_type": "code",
   "execution_count": 123,
   "metadata": {},
   "outputs": [
    {
     "name": "stdout",
     "output_type": "stream",
     "text": [
      "Hola que tal "
     ]
    }
   ],
   "source": [
    "print_words(enunciado)"
   ]
  },
  {
   "cell_type": "code",
   "execution_count": 124,
   "metadata": {},
   "outputs": [],
   "source": [
    "prompt = \" ¿Cual es tu nombre? \"\n"
   ]
  },
  {
   "cell_type": "code",
   "execution_count": 125,
   "metadata": {
    "scrolled": true
   },
   "outputs": [
    {
     "name": "stdout",
     "output_type": "stream",
     "text": [
      " ¿Cual es tu nombre? jose\n"
     ]
    }
   ],
   "source": [
    "nombre_usuario = input(prompt)"
   ]
  },
  {
   "cell_type": "code",
   "execution_count": 126,
   "metadata": {},
   "outputs": [],
   "source": [
    "respuesta=\"Mucho gusto en conocerte \"+ nombre_usuario +\" ,mi nombre es Susy\""
   ]
  },
  {
   "cell_type": "code",
   "execution_count": 127,
   "metadata": {},
   "outputs": [
    {
     "name": "stdout",
     "output_type": "stream",
     "text": [
      "Mucho gusto en conocerte jose ,mi nombre es Susy\n"
     ]
    }
   ],
   "source": [
    "print(respuesta)"
   ]
  },
  {
   "cell_type": "code",
   "execution_count": 128,
   "metadata": {},
   "outputs": [],
   "source": [
    "tl = \"Quisiera concer mas sobre tí,que tal si empezamos por que es lo que mas te gusta hacer en tu tiempo libre  \""
   ]
  },
  {
   "cell_type": "code",
   "execution_count": 130,
   "metadata": {},
   "outputs": [
    {
     "name": "stdout",
     "output_type": "stream",
     "text": [
      "Quisiera concer mas sobre tí,que tal si empezamos por que es lo que mas te gusta hacer en tu tiempo libre  peliculas\n"
     ]
    }
   ],
   "source": [
    "tiempolib = input(tl)"
   ]
  },
  {
   "cell_type": "code",
   "execution_count": 131,
   "metadata": {},
   "outputs": [],
   "source": [
    "es = \"Wow,eso suena increible,ahora dime ¿Cuál es tu pelicula favorita?\""
   ]
  },
  {
   "cell_type": "code",
   "execution_count": 132,
   "metadata": {},
   "outputs": [
    {
     "name": "stdout",
     "output_type": "stream",
     "text": [
      "Wow,eso suena increible,ahora dime ¿Cuál es tu pelicula favorita?hp\n"
     ]
    }
   ],
   "source": [
    "pel = input(es)"
   ]
  },
  {
   "cell_type": "code",
   "execution_count": 133,
   "metadata": {},
   "outputs": [],
   "source": [
    "respel=\"Esa es una pelicula muy buena,en mi caso me encanta la pelicula de El Origen,con Leonardo Dicaprio\""
   ]
  },
  {
   "cell_type": "code",
   "execution_count": 134,
   "metadata": {},
   "outputs": [],
   "source": [
    "estu = \"Bueno dejando esos temas atras que tal si me platicas un poco sobre tu carrera ¿Dime que es lo que estudias?  \""
   ]
  },
  {
   "cell_type": "code",
   "execution_count": 135,
   "metadata": {},
   "outputs": [
    {
     "name": "stdout",
     "output_type": "stream",
     "text": [
      "Bueno dejando esos temas atras que tal si me platicas un poco sobre tu carrera ¿Dime que es lo que estudias?  Ing.civil\n"
     ]
    }
   ],
   "source": [
    "estu1=input(estu)"
   ]
  },
  {
   "cell_type": "code",
   "execution_count": 145,
   "metadata": {},
   "outputs": [],
   "source": [
    "resest=\"!Que interesante¡ Y dime ¿Alrededor de cuantos años dura tu carrera?\""
   ]
  },
  {
   "cell_type": "code",
   "execution_count": 150,
   "metadata": {},
   "outputs": [
    {
     "name": "stdout",
     "output_type": "stream",
     "text": [
      "!Que interesante¡ Y dime ¿Alrededor de cuantos años dura tu carrera?4\n"
     ]
    }
   ],
   "source": [
    "estuañ=str(input(resest))"
   ]
  },
  {
   "cell_type": "code",
   "execution_count": 152,
   "metadata": {},
   "outputs": [
    {
     "name": "stdout",
     "output_type": "stream",
     "text": [
      "Enserio,vaya pues 4 son muchos años,pero verás como los disfrutas y te diviertes\n"
     ]
    }
   ],
   "source": [
    "print(\"Enserio,vaya pues \"+ estuañ +\" son muchos años,pero verás como los disfrutas y te diviertes\")"
   ]
  },
  {
   "cell_type": "code",
   "execution_count": 149,
   "metadata": {},
   "outputs": [],
   "source": [
    "despedida=\"Bueno a sido un placer haber charlado contigo,hablamos pronto,chiao.\""
   ]
  },
  {
   "cell_type": "code",
   "execution_count": 153,
   "metadata": {},
   "outputs": [
    {
     "name": "stdout",
     "output_type": "stream",
     "text": [
      "Bueno a sido un placer haber charlado contigo,hablamos pronto,chiao.\n"
     ]
    }
   ],
   "source": [
    "print(despedida)"
   ]
  },
  {
   "cell_type": "code",
   "execution_count": null,
   "metadata": {},
   "outputs": [],
   "source": []
  }
 ],
 "metadata": {
  "kernelspec": {
   "display_name": "Python 3",
   "language": "python",
   "name": "python3"
  },
  "language_info": {
   "codemirror_mode": {
    "name": "ipython",
    "version": 3
   },
   "file_extension": ".py",
   "mimetype": "text/x-python",
   "name": "python",
   "nbconvert_exporter": "python",
   "pygments_lexer": "ipython3",
   "version": "3.6.4"
  }
 },
 "nbformat": 4,
 "nbformat_minor": 2
}
